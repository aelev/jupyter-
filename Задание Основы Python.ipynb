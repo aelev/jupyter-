{
 "cells": [
  {
   "cell_type": "markdown",
   "id": "43d4bfa9",
   "metadata": {},
   "source": [
    "Задание №1\n"
   ]
  },
  {
   "cell_type": "code",
   "execution_count": 14,
   "id": "dba50ba7",
   "metadata": {
    "scrolled": true
   },
   "outputs": [
    {
     "name": "stdout",
     "output_type": "stream",
     "text": [
      "True\n"
     ]
    }
   ],
   "source": [
    "phrase_1 = 'Насколько проще было бы писать программы, если бы не заказчики'\n",
    "phrase_2 = '640Кб должно хватить для любых задач. Билл Гейтс (по легенде)'\n",
    "print(phrase_1 > phrase_2)"
   ]
  },
  {
   "cell_type": "code",
   "execution_count": 15,
   "id": "65a6d630",
   "metadata": {},
   "outputs": [
    {
     "name": "stdout",
     "output_type": "stream",
     "text": [
      "True\n"
     ]
    }
   ],
   "source": [
    "phrase_1 = '640Кб должно хватить для любых задач. Билл Гейтс (по легенде)'\n",
    "phrase_2 = 'Насколько проще было бы писать программы, если бы не заказчики'\n",
    "print(phrase_2 > phrase_1)"
   ]
  },
  {
   "cell_type": "code",
   "execution_count": 16,
   "id": "9d4aeec0",
   "metadata": {},
   "outputs": [
    {
     "name": "stdout",
     "output_type": "stream",
     "text": [
      "True\n"
     ]
    }
   ],
   "source": [
    "phrase_1 = 'Насколько проще было бы писать программы, если бы не заказчики'\n",
    "phrase_2 = 'Насколько проще было бы писать программы, если бы не заказчики'\n",
    "print(phrase_2 == phrase_1)"
   ]
  },
  {
   "cell_type": "markdown",
   "id": "e6ec5712",
   "metadata": {},
   "source": [
    "Задание №2"
   ]
  },
  {
   "cell_type": "code",
   "execution_count": 10,
   "id": "da4410dd",
   "metadata": {},
   "outputs": [
    {
     "name": "stdout",
     "output_type": "stream",
     "text": [
      "введите год 2018\n",
      "Обычный год\n"
     ]
    }
   ],
   "source": [
    "year_input = int (input ('введите год '))\n",
    "if year_input % 4 == 0:\n",
    "    print ('Висококосный год')\n",
    "else:\n",
    "    print ('Обычный год')"
   ]
  },
  {
   "cell_type": "markdown",
   "id": "97507cbd",
   "metadata": {},
   "source": [
    "Задание №3"
   ]
  },
  {
   "cell_type": "code",
   "execution_count": 36,
   "id": "714c6f17",
   "metadata": {},
   "outputs": [
    {
     "name": "stdout",
     "output_type": "stream",
     "text": [
      "введите день 30\n",
      "введите месяц 8\n",
      "Ваш знак зодиака: Дева\n"
     ]
    }
   ],
   "source": [
    "day_input = int(input('введите день '))\n",
    "month_input = int(input('введите месяц '))\n",
    "if day_input == 30 and month_input == 8:   \n",
    "    print ('Ваш знак зодиака: Дева')\n",
    "elif day_input == 29 and month_input == 10:        \n",
    "    print ('Ваш знак зодиака: Скорпион')"
   ]
  },
  {
   "cell_type": "markdown",
   "id": "11dcf2f1",
   "metadata": {},
   "source": [
    "Задание №4"
   ]
  },
  {
   "cell_type": "code",
   "execution_count": 14,
   "id": "9db398ec",
   "metadata": {},
   "outputs": [
    {
     "name": "stdout",
     "output_type": "stream",
     "text": [
      "Ширина 50\n",
      "Длина 50\n",
      "Высота 10\n",
      "Стандартная коробка №3\n"
     ]
    }
   ],
   "source": [
    "width_input = int(input('Ширина '))\n",
    "length_input = int(input('Длина '))\n",
    "height_input = int(input('Высота '))\n",
    "if width_input <= 15 and length_input <= 15 and height_input <= 15:\n",
    "    print('Коробка №1')\n",
    "elif 15 < width_input < 50 or 15 < length_input < 50 or 15 < height_input < 50:\n",
    "    print('Коробка №2')\n",
    "elif length_input > 200:\n",
    "    print('Упаковка для лыж')\n",
    "else:\n",
    "    print('Стандартная коробка №3')"
   ]
  }
 ],
 "metadata": {
  "kernelspec": {
   "display_name": "Python 3 (ipykernel)",
   "language": "python",
   "name": "python3"
  },
  "language_info": {
   "codemirror_mode": {
    "name": "ipython",
    "version": 3
   },
   "file_extension": ".py",
   "mimetype": "text/x-python",
   "name": "python",
   "nbconvert_exporter": "python",
   "pygments_lexer": "ipython3",
   "version": "3.9.13"
  }
 },
 "nbformat": 4,
 "nbformat_minor": 5
}
