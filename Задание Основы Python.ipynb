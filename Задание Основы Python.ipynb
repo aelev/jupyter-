{
 "cells": [
  {
   "cell_type": "markdown",
   "id": "43d4bfa9",
   "metadata": {},
   "source": [
    "Задание №1\n"
   ]
  },
  {
   "cell_type": "code",
   "execution_count": 6,
   "id": "dba50ba7",
   "metadata": {
    "scrolled": true
   },
   "outputs": [
    {
     "name": "stdout",
     "output_type": "stream",
     "text": [
      "Фраза 1 длиннее фразы 2\n"
     ]
    }
   ],
   "source": [
    "phrase_1 = 'Насколько проще было бы писать программы, если бы не заказчики'\n",
    "phrase_2 = '640Кб должно хватить для любых задач. Билл Гейтс (по легенде)'\n",
    "if phrase_1 > phrase_2:\n",
    "    print ('Фраза 1 длиннее фразы 2')\n",
    "elif phrase_2 > phrase_1:\n",
    "    print ('Фраза 2 длиннее фразы 1')\n",
    "elif phrase_2 == phrase_1:\n",
    "    print ('Фразы равной длины')"
   ]
  },
  {
   "cell_type": "markdown",
   "id": "e6ec5712",
   "metadata": {},
   "source": [
    "Задание №2"
   ]
  },
  {
   "cell_type": "code",
   "execution_count": 7,
   "id": "da4410dd",
   "metadata": {},
   "outputs": [
    {
     "name": "stdout",
     "output_type": "stream",
     "text": [
      "Введите год 1888\n",
      "Обычный год\n"
     ]
    }
   ],
   "source": [
    "year_input = int(input ('Введите год '))\n",
    "if year_input % 4 == 0 and year_input % 400 == 0:\n",
    "    print('Висококосный год')\n",
    "elif year_input % 100 == 0:\n",
    "    print('Обычный год')\n",
    "else:\n",
    "    print('Обычный год')"
   ]
  },
  {
   "cell_type": "markdown",
   "id": "97507cbd",
   "metadata": {},
   "source": [
    "Задание №3"
   ]
  },
  {
   "cell_type": "code",
   "execution_count": 5,
   "id": "714c6f17",
   "metadata": {},
   "outputs": [
    {
     "name": "stdout",
     "output_type": "stream",
     "text": [
      "введите день 31\n",
      "введите месяц 6\n",
      "Введите корректную дату\n"
     ]
    }
   ],
   "source": [
    "day_input = int(input('введите день '))\n",
    "month_input = int(input('введите месяц '))\n",
    "if 21 <= day_input <= 31 and month_input == 3 or 1 <= day_input <= 20 and month_input == 4:   \n",
    "    print('Ваш знак зодиака: Овен')\n",
    "elif 21 <= day_input <= 30 and month_input == 4 or 1 <= day_input <= 21 and month_input == 5:   \n",
    "    print('Ваш знак зодиака: Телец')\n",
    "elif 22 <= day_input <= 31 and month_input == 5 or 1 <= day_input <= 21 and month_input == 6:   \n",
    "    print('Ваш знак зодиака: Близнецы')\n",
    "elif 22 <= day_input <= 30 and month_input == 6 or 1 <= day_input <= 22 and month_input == 7:   \n",
    "    print('Ваш знак зодиака: Рак')\n",
    "elif 23 <= day_input <= 31 and month_input == 7 or 1 <= day_input <= 23 and month_input == 8:   \n",
    "    print('Ваш знак зодиака: Лев')\n",
    "elif 24 <= day_input <= 31 and month_input == 8 or 1 <= day_input <= 22 and month_input == 9:   \n",
    "    print('Ваш знак зодиака: Дева')\n",
    "elif 23 <= day_input <= 30 and month_input == 9 or 1 <= day_input <= 23 and month_input == 10:   \n",
    "    print('Ваш знак зодиака: Весы')\n",
    "elif 24 <= day_input <= 31 and month_input == 10 or 1 <= day_input <= 22 and month_input == 11:   \n",
    "    print('Ваш знак зодиака: Скорпион')\n",
    "elif 23 <= day_input <= 30 and month_input == 11 or 1 <= day_input <= 21 and month_input == 12:   \n",
    "    print('Ваш знак зодиака: Стрелец')\n",
    "elif 22 <= day_input <= 31 and month_input == 12 or 1 <= day_input <= 20 and month_input == 1:   \n",
    "    print('Ваш знак зодиака: Козерог')\n",
    "elif 21 <= day_input <= 31 and month_input == 1 or 1 <= day_input <= 18 and month_input == 2:   \n",
    "    print('Ваш знак зодиака: Водолей')\n",
    "elif 19 <= day_input <= 29 and month_input == 2 or 1 <= day_input <= 20 and month_input == 3:   \n",
    "    print('Ваш знак зодиака: Водолей')\n",
    "else:\n",
    "    print('Введите корректную дату')"
   ]
  },
  {
   "cell_type": "markdown",
   "id": "11dcf2f1",
   "metadata": {},
   "source": [
    "Задание №4"
   ]
  },
  {
   "cell_type": "code",
   "execution_count": 14,
   "id": "9db398ec",
   "metadata": {},
   "outputs": [
    {
     "name": "stdout",
     "output_type": "stream",
     "text": [
      "Ширина 50\n",
      "Длина 50\n",
      "Высота 10\n",
      "Стандартная коробка №3\n"
     ]
    }
   ],
   "source": [
    "width_input = int(input('Ширина '))\n",
    "length_input = int(input('Длина '))\n",
    "height_input = int(input('Высота '))\n",
    "if width_input <= 15 and length_input <= 15 and height_input <= 15:\n",
    "    print('Коробка №1')\n",
    "elif 15 < width_input < 50 or 15 < length_input < 50 or 15 < height_input < 50:\n",
    "    print('Коробка №2')\n",
    "elif length_input > 200:\n",
    "    print('Упаковка для лыж')\n",
    "else:\n",
    "    print('Стандартная коробка №3')"
   ]
  }
 ],
 "metadata": {
  "kernelspec": {
   "display_name": "Python 3 (ipykernel)",
   "language": "python",
   "name": "python3"
  },
  "language_info": {
   "codemirror_mode": {
    "name": "ipython",
    "version": 3
   },
   "file_extension": ".py",
   "mimetype": "text/x-python",
   "name": "python",
   "nbconvert_exporter": "python",
   "pygments_lexer": "ipython3",
   "version": "3.9.13"
  }
 },
 "nbformat": 4,
 "nbformat_minor": 5
}
